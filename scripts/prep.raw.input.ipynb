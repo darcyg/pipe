{
 "cells": [
  {
   "cell_type": "code",
   "execution_count": 6,
   "metadata": {},
   "outputs": [],
   "source": [
    "import pandas as pd\n"
   ]
  },
  {
   "cell_type": "code",
   "execution_count": 7,
   "metadata": {},
   "outputs": [],
   "source": [
    "in_dir = \"/share/Oncology/VanNul/work/fusion0322/input/\""
   ]
  },
  {
   "cell_type": "code",
   "execution_count": 8,
   "metadata": {},
   "outputs": [],
   "source": [
    "df = pd.read_excel(\"./raw.input.xlsx\", sheet_name=\"Sheet1\")"
   ]
  },
  {
   "cell_type": "code",
   "execution_count": 9,
   "metadata": {},
   "outputs": [],
   "source": [
    "finallib = [] #Library, from 终文库名称\n",
    "flowcell = [] #FlowCell, from FlowCell\n",
    "sampname = [] #SampleName, from 终文库名称\n",
    "barcodef = [] #BarcodeConf, from in_dir + 终文库名称 + \".conf\"\n",
    "preanlib = [] #from 终文库名称\n",
    "barcodes = [] #from Barcode"
   ]
  },
  {
   "cell_type": "code",
   "execution_count": 10,
   "metadata": {},
   "outputs": [],
   "source": [
    "for index, row in df.iterrows():\n",
    "    if not pd.isna(row.终文库名称):\n",
    "        if len(preanlib) > 0:\n",
    "            tmpdf = pd.DataFrame({\"PreLib\": preanlib, \"Barcode\": barcodes})\n",
    "            tmpdf.to_csv(\"./{0}.conf\".format(finallib[-1]), sep=\"\\t\", header=False, index=False)\n",
    "            preanlib = []\n",
    "            barcodes = []\n",
    "        finaLibName = row.终文库名称.split('_')[0]\n",
    "        finallib.append(finaLibName)\n",
    "        flowcell.append(row.FlowCell)\n",
    "        sampname.append(finaLibName)\n",
    "        barcodef.append(in_dir + finaLibName + \".conf\")\n",
    "    preanlib.append(row.预文库名称)\n",
    "    barcodes.append(row.Barcode)\n",
    "\n",
    "# write the last configure file  \n",
    "tmpdf = pd.DataFrame({\"PreLib\": preanlib, \"Barcode\": barcodes})\n",
    "tmpdf.to_csv(\"./{0}.conf\".format(finallib[-1]), sep=\"\\t\", header=False, index=False)\n",
    "\n",
    "# write total sample list\n",
    "tmpdf = pd.DataFrame({\"SampleName\": sampname, \n",
    "                      \"FlowCell\": flowcell, \n",
    "                      \"Library\": finallib, \n",
    "                      \"BarcodeConf\": barcodef\n",
    "                     })\n",
    "tmpdf.to_csv(\"./tot.list\", sep=\"\\t\",index=False)\n",
    "       "
   ]
  }
 ],
 "metadata": {
  "kernelspec": {
   "display_name": "Python 3",
   "language": "python",
   "name": "python3"
  },
  "language_info": {
   "codemirror_mode": {
    "name": "ipython",
    "version": 3
   },
   "file_extension": ".py",
   "mimetype": "text/x-python",
   "name": "python",
   "nbconvert_exporter": "python",
   "pygments_lexer": "ipython3",
   "version": "3.6.8"
  }
 },
 "nbformat": 4,
 "nbformat_minor": 2
}
